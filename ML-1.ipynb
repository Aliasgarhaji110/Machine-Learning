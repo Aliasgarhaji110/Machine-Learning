{
 "cells": [
  {
   "cell_type": "code",
   "execution_count": 14,
   "metadata": {},
   "outputs": [
    {
     "name": "stdout",
     "output_type": "stream",
     "text": [
      "['female']\n",
      "[[1. 0.]]\n"
     ]
    }
   ],
   "source": [
    "from sklearn import tree\n",
    "\n",
    "classifier=tree.DecisionTreeClassifier()\n",
    "# [height, weight, shoe_size]\n",
    "x = [[181, 80, 44], [177, 70, 43], [160, 60, 38], [154, 54, 37], [166, 65, 40],\n",
    "     [190, 90, 47], [175, 64, 39],\n",
    "     [177, 70, 40], [159, 55, 37], [171, 75, 42], [181, 85, 43],[180,85,46],[175,100,43],[152, 60, 35]]\n",
    "y = ['male', 'male', 'female', 'female', 'male', 'male', 'female', 'female',\n",
    "     'female', 'male', 'male','male','male','female']\n",
    "\n",
    "classify=classifier.fit(x,y)\n",
    "test=[[151,70,34]]\n",
    "predict=classify.predict(test)\n",
    "predictproba=classify.predict_proba(test)\n",
    "print(predict)\n",
    "print(predictproba)\n"
   ]
  },
  {
   "cell_type": "code",
   "execution_count": 18,
   "metadata": {},
   "outputs": [
    {
     "name": "stdout",
     "output_type": "stream",
     "text": [
      "SVM\n",
      "['male']    [[1. 0.]]\n",
      "KNN\n",
      "['female']    [[1. 0.]]\n",
      "Gausian\n",
      "['male']    [[0.5 0.5]]\n"
     ]
    }
   ],
   "source": [
    "from sklearn import svm\n",
    "from sklearn.neighbors import KNeighborsClassifier\n",
    "from sklearn.gaussian_process import GaussianProcessClassifier\n",
    "from sklearn.neural_network import MLPClassifier\n",
    "\n",
    "x = [[181, 80, 44], [177, 70, 43], [160, 60, 38], [154, 54, 37], [166, 65, 40],\n",
    "     [190, 90, 47], [175, 64, 39],\n",
    "     [177, 70, 40], [159, 55, 37], [171, 75, 42], [181, 85, 43],[180,85,46],[175,100,43],[152, 60, 35]]\n",
    "y = ['male', 'male', 'female', 'female', 'male', 'male', 'female', 'female',\n",
    "     'female', 'male', 'male','male','male','female']\n",
    "\n",
    "test=[[161,70,34]]\n",
    "classifierSVM=svm.SVC(probability=True)\n",
    "classifySVM=classifierSVM.fit(x,y)\n",
    "predictSVM=classifySVM.predict(test)\n",
    "predictprobaSVM=classify.predict_proba(test)\n",
    "print(\"SVM\")\n",
    "print(predictSVM,\"  \",predictprobaSVM)\n",
    "\n",
    "classifierK=KNeighborsClassifier(n_neighbors=4)\n",
    "classifyK=classifierK.fit(x,y)\n",
    "predictK=classifyK.predict(test)\n",
    "predictprobaK=classify.predict_proba(test)\n",
    "print(\"KNN\")\n",
    "print(predictK,\"  \",predictprobaK)\n",
    "\n",
    "\n",
    "classifierG=GaussianProcessClassifier()\n",
    "classifyG=classifierG.fit(x,y)\n",
    "predictG=classifyG.predict(test)\n",
    "predictprobaG=classifyG.predict_proba(test)\n",
    "print(\"Gausian\")\n",
    "print(predictG,\"  \",predictprobaG)\n",
    "\n",
    "\n"
   ]
  },
  {
   "cell_type": "code",
   "execution_count": 23,
   "metadata": {},
   "outputs": [
    {
     "name": "stdout",
     "output_type": "stream",
     "text": [
      "['female' 'female' 'female']\n",
      "[[1.  0. ]\n",
      " [0.7 0.3]\n",
      " [0.8 0.2]]\n"
     ]
    }
   ],
   "source": [
    "import numpy as np\n",
    "from sklearn.ensemble import RandomForestClassifier as RF\n",
    "from sklearn import cross_validation\n",
    "\n",
    "X = np.array([[181, 80, 44], [177, 70, 43], [160, 60, 38], [154, 54, 37], [166, 65, 40],\n",
    "     [190, 90, 47], [175, 64, 39],\n",
    "     [177, 70, 40], [159, 55, 37], [171, 75, 42], [181, 85, 43],[180,85,46],[175,100,43],[152, 60, 35]])\n",
    "y = np.array(['male', 'male', 'female', 'female', 'male', 'male', 'female', 'female',\n",
    "     'female', 'male', 'male','male','male','female'])\n",
    "X_train, X_test, y_train, y_test = cross_validation.train_test_split(X, y, test_size=0.2, random_state=0)\n",
    "#X_test=[[161,70,34]]\n",
    "clf = RF()\n",
    "clf.fit(X_train,y_train)\n",
    "pred = clf.predict(X_test)\n",
    "print (pred)\n",
    "pred_pro = clf.predict_proba(X_test)\n",
    "print (pred_pro)"
   ]
  },
  {
   "cell_type": "code",
   "execution_count": null,
   "metadata": {},
   "outputs": [],
   "source": []
  }
 ],
 "metadata": {
  "kernelspec": {
   "display_name": "Python 3",
   "language": "python",
   "name": "python3"
  },
  "language_info": {
   "codemirror_mode": {
    "name": "ipython",
    "version": 3
   },
   "file_extension": ".py",
   "mimetype": "text/x-python",
   "name": "python",
   "nbconvert_exporter": "python",
   "pygments_lexer": "ipython3",
   "version": "3.6.5"
  }
 },
 "nbformat": 4,
 "nbformat_minor": 2
}
